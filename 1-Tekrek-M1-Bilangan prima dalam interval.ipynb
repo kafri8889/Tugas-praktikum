{
 "cells": [
  {
   "cell_type": "markdown",
   "metadata": {},
   "source": [
    "## Program Python untuk mencetak semua bilangan prima dalam sebuah Interval"
   ]
  },
  {
   "cell_type": "markdown",
   "metadata": {},
   "source": [
    "---"
   ]
  },
  {
   "cell_type": "markdown",
   "metadata": {},
   "source": [
    "**Definisi**: Bilangan prima adalah bilangan asli yang lebih besar dari 1 yang tidak memiliki pembagi positif selain 1 dan dirinya sendiri. Beberapa bilangan prima pertama adalah {2, 3, 5, 7, 11,….}.\n",
    "\n",
    "Dengan diberikan dua bilangan bulat positif untuk awal dan akhir. Tujuannya adalah menulis program Python untuk mencetak semua bilangan prima dalam Interval tersebut.\n",
    "\n",
    "Solusi untuk menyelesaikan masalah ini adalah dengan mengulang ```val``` dari awal ke akhir menggunakan perulangan ```for``` dan untuk setiap bilangan, jika lebih besar dari 1, periksa apakah bilangan tersebut membagi ```n```. Jika ditemukan angka lain yang membagi, cetak nilainya."
   ]
  },
  {
   "cell_type": "markdown",
   "metadata": {},
   "source": [
    "### Program :"
   ]
  },
  {
   "cell_type": "markdown",
   "metadata": {},
   "source": [
    "Tahap pertama dalam membuat program ini adalah dengan menentukan nilai awal dan akhir"
   ]
  },
  {
   "cell_type": "code",
   "execution_count": 1,
   "metadata": {},
   "outputs": [],
   "source": [
    "awal = 11\n",
    "akhir = 25"
   ]
  },
  {
   "cell_type": "markdown",
   "metadata": {},
   "source": [
    "Langkah selanjutnya adalah melakukan pengecekan dengan perulangan dan pembagian terhadap nilai interval tersebut"
   ]
  },
  {
   "cell_type": "code",
   "execution_count": 3,
   "metadata": {},
   "outputs": [
    {
     "name": "stdout",
     "output_type": "stream",
     "text": [
      "11\n",
      "13\n",
      "17\n",
      "19\n",
      "23\n"
     ]
    }
   ],
   "source": [
    "for i in range(awal, akhir+1): \n",
    "  if i>1: \n",
    "    for j in range(2,i): \n",
    "        if(i % j==0): \n",
    "            break\n",
    "    else: \n",
    "        print(i)"
   ]
  }
 ],
 "metadata": {
  "kernelspec": {
   "display_name": "Python 3",
   "language": "python",
   "name": "python3"
  },
  "language_info": {
   "codemirror_mode": {
    "name": "ipython",
    "version": 3
   },
   "file_extension": ".py",
   "mimetype": "text/x-python",
   "name": "python",
   "nbconvert_exporter": "python",
   "pygments_lexer": "ipython3",
   "version": "3.6.9"
  }
 },
 "nbformat": 4,
 "nbformat_minor": 4
}
