{
 "cells":[
   {
   "metadata": {},
   "cell_type": "markdown",
   "source": [
    "# Rock Paper Scissors\n",
    "rock paper scissors with stupid NN T_T\n",
    "\n",
    "`Author: kafri8889 (Anaf Naufalian)`\n",
    "[Github](https://github.com/kafri8889/)"
   ]
  },
  {
   "cell_type":"code",
   "source":[
    "# @author: Anaf Naufalian (kafri8889)\n",
    "\n",
    "import random\n",
    "import numpy as np\n",
    "import tensorflow as tf"
   ],
   "execution_count":2,
   "outputs":[
    
   ],
   "metadata":{
    "datalore":{
     "node_id":"cJ0MYzq6OnqwTVDHRCeZdz",
     "type":"CODE",
     "hide_input_from_viewers":true,
     "hide_output_from_viewers":true
    }
   }
  },
  {
   "cell_type":"code",
   "source":[
    "# @author: Anaf Naufalian (kafri8889)\n",
    "\n",
    "# Digunakan untuk menyimpan history inputan yang akan digunakan untuk melatih model\n",
    "# contoh isinya: [[1, 0, 0], [0, 1, 0]]\n",
    "history_inputs = []\n",
    "# Digunakan untuk menyimpan history output dari inputan yang akan digunakan untuk melatih model\n",
    "# contoh isinya: [[0, 0, 1], [1, 0, 0]]\n",
    "history_outputs = []"
   ],
   "execution_count":3,
   "outputs":[
    
   ],
   "metadata":{
    "datalore":{
     "node_id":"WIUXghiq6Sjdcs4XQUxlH4",
     "type":"CODE",
     "hide_input_from_viewers":true,
     "hide_output_from_viewers":true
    }
   }
  },
  {
   "cell_type":"code",
   "source":[
    "# @author: Anaf Naufalian (kafri8889)\n",
    "\n",
    "# Fungsi ini digunakan untuk mengubah pilihan (rock, paper, scissors) menjadi vektor berdimensi 1x3\n",
    "def rps_to_vector(choice: str):\n",
    "    if choice == 'rock':\n",
    "        return [1, 0, 0]\n",
    "    elif choice == 'paper':\n",
    "        return [0, 1, 0]\n",
    "    \n",
    "    return [0, 0, 1]"
   ],
   "execution_count":4,
   "outputs":[
    
   ],
   "metadata":{
    "datalore":{
     "node_id":"1TcRNQB8YnWbbYqeJzPHkA",
     "type":"CODE",
     "hide_input_from_viewers":true,
     "hide_output_from_viewers":true
    }
   }
  },
  {
   "cell_type":"code",
   "source":[
    "# @author: Anaf Naufalian (kafri8889)\n",
    "\n",
    "# Generate training dataset\n",
    "def generate_dataset(num_of_games):\n",
    "    x = []\n",
    "    y = []\n",
    "\n",
    "    actions = np.array([[1, 0, 0], [0, 1, 0], [0, 0, 1]])  # rock, paper, scissors\n",
    "\n",
    "    for _ in range(num_of_games):\n",
    "        # Ambil pilihan acak (user)\n",
    "        user_action = np.random.randint(3)\n",
    "        user_choice = actions[np.random.randint(3)]\n",
    "\n",
    "        # Ambil pilihan acak (computer)\n",
    "        computer_action = np.random.randint(3)\n",
    "        computer_choice = actions[computer_action]\n",
    "\n",
    "        # jika pilihan user dan komputer sama\n",
    "        if np.array_equal(user_choice, computer_choice):\n",
    "            outcome = [0, 0, 1]  # seri (scissors)\n",
    "        elif (user_action == 0 and computer_action == 2) or (user_action == 1 and computer_action == 0) or (user_action == 2 and computer_action == 1):\n",
    "            outcome = [1, 0, 0]  # user menang (rock)\n",
    "        else:\n",
    "            outcome = [0, 1, 0]  # computer menang (paper)\n",
    "\n",
    "        # menambahkan ke dataset\n",
    "        x.append(user_choice)\n",
    "        y.append(outcome)\n",
    "\n",
    "    return np.array(x), np.array(y)"
   ],
   "execution_count":5,
   "outputs":[
    
   ],
   "metadata":{
    "datalore":{
     "node_id":"QPva6FJyNGj8syBtod71ha",
     "type":"CODE",
     "hide_input_from_viewers":true,
     "hide_output_from_viewers":true
    }
   }
  },
  {
   "cell_type":"code",
   "source":[
    "# @author: Anaf Naufalian (kafri8889)\n",
    "\n",
    "def create_model():\n",
    "    # membuat model\n",
    "    model = tf.keras.Sequential([\n",
    "        tf.keras.layers.Dense(128, activation=\"relu\", input_shape=(3,)),\n",
    "        tf.keras.layers.Dense(64, activation=\"relu\"),\n",
    "        # kenapa menggunakan softmax?, karena bot akan memilih 1 dari 3 pilihan, jika hanya 2 pilihan, kita bisa menggunakan 'sigmoid'\n",
    "        tf.keras.layers.Dense(3, activation=\"softmax\") # 3 node (rock, paper, or scissors)\n",
    "    ])\n",
    "\n",
    "    # mengapa menggunakan loss categorical cross entropy?, karena kita akan melakukan multi class classification, atau kita\n",
    "    # akan mengklasifikasi lebih dari 2 tipe, yaitu rock, paper, dan scissors\n",
    "    model.compile(optimizer=\"adam\", loss=\"categorical_crossentropy\", metrics=['accuracy'])\n",
    "\n",
    "    # jika model sudah dibuat dan dilatih, return\n",
    "    return model"
   ],
   "execution_count":6,
   "outputs":[
    
   ],
   "metadata":{
    "datalore":{
     "node_id":"ikbfjpIZrxTPKeudukWgkn",
     "type":"CODE",
     "hide_input_from_viewers":true,
     "hide_output_from_viewers":true
    }
   }
  },
  {
   "cell_type":"code",
   "source":[
    "# @author: Anaf Naufalian (kafri8889)\n",
    "\n",
    "def train_model():\n",
    "    # melatih model\n",
    "    # verbose = 0, silent training\n",
    "    model.fit(np.array(history_inputs), np.array(history_outputs), epochs=10, batch_size=32, verbose=0)"
   ],
   "execution_count":7,
   "outputs":[
    
   ],
   "metadata":{
    "datalore":{
     "node_id":"LfUO1abBfSK4CDcglOJXUt",
     "type":"CODE",
     "hide_input_from_viewers":true,
     "hide_output_from_viewers":true
    }
   }
  },
  {
   "cell_type":"code",
   "source":[
    "# @author: Anaf Naufalian (kafri8889)\n",
    "\n",
    "def pre_trained_model():\n",
    "    # model yang sudah dilatih menggunakan data yang di generate\n",
    "    x, y = generate_dataset(1000)\n",
    "\n",
    "    model = create_model()\n",
    "    model.fit(np.array(x), np.array(y), epochs=20, batch_size=16, verbose=0)\n",
    "    return model"
   ],
   "execution_count":16,
   "outputs":[
    
   ],
   "metadata":{
    "datalore":{
     "node_id":"1jqG14PbPNt3zxjNeXUISK",
     "type":"CODE",
     "hide_input_from_viewers":true,
     "hide_output_from_viewers":true
    }
   }
  },
  {
   "cell_type":"code",
   "source":[
    "# @author: Anaf Naufalian (kafri8889)\n",
    "\n",
    "pre_trained_model = pre_trained_model()"
   ],
   "execution_count":17,
   "outputs":[
    
   ],
   "metadata":{
    "datalore":{
     "node_id":"D9WcWvNPXIIrpnndSZ7zca",
     "type":"CODE",
     "hide_input_from_viewers":true,
     "hide_output_from_viewers":true
    }
   }
  },
  {
   "cell_type":"code",
   "source":[
    "# @author: Anaf Naufalian (kafri8889)\n",
    "\n",
    "# membuat model pertama kali\n",
    "model = create_model()\n",
    "\n",
    "print(\"Welcome to Rock, Paper, Scissors!\")\n",
    "print(\"Before start, what model yang ingin kamu gunakan?\")\n",
    "print(\"1. Pre trained model\")\n",
    "print(\"2. Untrained model\")\n",
    "selected_model = input(\"Select model (1 or 2): \")\n",
    "print()\n",
    "\n",
    "if selected_model == \"1\":\n",
    "    model = pre_trained_model\n",
    "    print(\"You choose pre trained model.\")\n",
    "else:\n",
    "    print(\"You choose untrained model\")\n",
    "\n",
    "print()\n",
    "\n",
    "user_wins = 0\n",
    "computer_wins = 0\n",
    "\n",
    "choices = {\n",
    "  \"1\": \"rock\",\n",
    "  \"2\": \"paper\",\n",
    "  \"3\": \"scissors\"\n",
    "}\n",
    "\n",
    "while True:\n",
    "  \n",
    "  if len(history_inputs) > 0:\n",
    "      last_input = np.array([history_inputs[-1]])\n",
    "  else:\n",
    "      last_input = np.array([rps_to_vector(choices[str(random.randint(1, 3))])])\n",
    "\n",
    "  # bot akan memilih berdasarkan prediksi dari model\n",
    "  predicted = model.predict(last_input)\n",
    "  cpu_choice = choices[str(np.argmax(predicted))]\n",
    "\n",
    "  user_choice = input(\"(1) Rock, (2) Paper, or (3) Scissors? Select number!\")\n",
    "  while user_choice not in choices:\n",
    "    user_choice = input(\"That is not a valid choice. Please try again: \")\n",
    "      \n",
    "  user_choice = choices[user_choice]\n",
    "\n",
    "  print()\n",
    "  print(\"Your choice:\", user_choice)\n",
    "  print(\"Computer's choice:\", cpu_choice)\n",
    "  print()\n",
    "\n",
    "  if user_choice == 'rock':\n",
    "    if cpu_choice == 'rock':\n",
    "      print(\"It's a tie!\")\n",
    "    elif cpu_choice == 'scissors':\n",
    "      print(\"You win!\")\n",
    "      user_wins+=1\n",
    "    elif cpu_choice == 'paper':\n",
    "      print(\"You lose!\")\n",
    "      computer_wins+=1\n",
    "  elif user_choice == 'paper':\n",
    "    if cpu_choice == 'paper':\n",
    "      print(\"It's a tie!\")\n",
    "    elif cpu_choice == 'rock':\n",
    "      print(\"You win!\")\n",
    "      user_wins+=1\n",
    "    elif cpu_choice == 'scissors':\n",
    "      print(\"You lose!\")\n",
    "      computer_wins+=1\n",
    "  elif user_choice == 'scissors':\n",
    "    if cpu_choice == 'scissors':\n",
    "      print(\"It's a tie!\")\n",
    "    elif cpu_choice == 'paper':\n",
    "      print(\"You win!\")\n",
    "      user_wins+=1\n",
    "    elif cpu_choice == 'rock':\n",
    "      print(\"You lose!\")\n",
    "      computer_wins+=1\n",
    "\n",
    "  print()\n",
    "  print(\"You have \"+str(user_wins)+\" wins\")\n",
    "  print(\"The computer has \"+str(computer_wins)+\" wins\")\n",
    "  print()\n",
    "    \n",
    "  # Menyimpan input dan output ke dalam history untuk data pelatihan model\n",
    "  history_inputs.append(rps_to_vector(user_choice))\n",
    "  history_outputs.append(rps_to_vector(cpu_choice))\n",
    "    \n",
    "  # latih ulang model, jika user memilih untrained model\n",
    "  if selected_model == 2:\n",
    "      train_model()\n",
    "\n",
    "  repeat = input(\"Play again? (Y\/N) \").lower()\n",
    "  while repeat not in ['y', 'n']:\n",
    "    repeat = input(\"That is not a valid choice. Please try again: \").lower()\n",
    "\n",
    "  if repeat == 'n':\n",
    "    print(\"Bye bye\")\n",
    "    break\n",
    "\n",
    "  print(\"\\n----------------------------\\n\")\n"
   ],
   "execution_count":19,
   "outputs":[
    {
     "name":"stdout",
     "text":[
      "Welcome to Rock, Paper, Scissors!\n",
      "Before start, what model yang ingin kamu gunakan?\n",
      "1. Pre trained model\n",
      "2. Untrained model\n",
      "Select model (1 or 2):  2\n",
      "\n",
      "You choose untrained model\n",
      "\n",
      "\r1\/1 [==============================] - ETA: 0s\b\b\b\b\b\b\b\b\b\b\b\b\b\b\b\b\b\b\b\b\b\b\b\b\b\b\b\b\b\b\b\b\b\b\b\b\b\b\b\b\b\b\b\b\b\b\r1\/1 [==============================] - 0s 60ms\/step\n",
      "(1) Rock, (2) Paper, or (3) Scissors? Select number! 1\n",
      "\n",
      "Your choice: rock\n",
      "Computer's choice: paper\n",
      "\n",
      "You lose!\n",
      "\n",
      "You have 0 wins\n",
      "The computer has 1 wins\n",
      "\n",
      "Play again? (Y\/N)  y\n",
      "\n",
      "----------------------------\n",
      "\n",
      "\r1\/1 [==============================] - ETA: 0s\b\b\b\b\b\b\b\b\b\b\b\b\b\b\b\b\b\b\b\b\b\b\b\b\b\b\b\b\b\b\b\b\b\b\b\b\b\b\b\b\b\b\b\b\b\b\r1\/1 [==============================] - 0s 20ms\/step\n",
      "(1) Rock, (2) Paper, or (3) Scissors? Select number! 2\n",
      "\n",
      "Your choice: paper\n",
      "Computer's choice: paper\n",
      "\n",
      "It's a tie!\n",
      "\n",
      "You have 0 wins\n",
      "The computer has 1 wins\n",
      "\n",
      "Play again? (Y\/N)  y\n",
      "\n",
      "----------------------------\n",
      "\n",
      "\r1\/1 [==============================] - ETA: 0s\b\b\b\b\b\b\b\b\b\b\b\b\b\b\b\b\b\b\b\b\b\b\b\b\b\b\b\b\b\b\b\b\b\b\b\b\b\b\b\b\b\b\b\b\b\b\r1\/1 [==============================] - 0s 21ms\/step\n",
      "(1) Rock, (2) Paper, or (3) Scissors? Select number! 1\n",
      "\n",
      "Your choice: rock\n",
      "Computer's choice: paper\n",
      "\n",
      "You lose!\n",
      "\n",
      "You have 0 wins\n",
      "The computer has 2 wins\n",
      "\n",
      "Play again? (Y\/N)  y\n",
      "\n",
      "----------------------------\n",
      "\n",
      "\r1\/1 [==============================] - ETA: 0s\b\b\b\b\b\b\b\b\b\b\b\b\b\b\b\b\b\b\b\b\b\b\b\b\b\b\b\b\b\b\b\b\b\b\b\b\b\b\b\b\b\b\b\b\b\b\r1\/1 [==============================] - 0s 21ms\/step\n",
      "(1) Rock, (2) Paper, or (3) Scissors? Select number! 3\n",
      "\n",
      "Your choice: scissors\n",
      "Computer's choice: paper\n",
      "\n",
      "You win!\n",
      "\n",
      "You have 1 wins\n",
      "The computer has 2 wins\n",
      "\n",
      "Play again? (Y\/N)  y\n",
      "\n",
      "----------------------------\n",
      "\n",
      "\r1\/1 [==============================] - ETA: 0s\b\b\b\b\b\b\b\b\b\b\b\b\b\b\b\b\b\b\b\b\b\b\b\b\b\b\b\b\b\b\b\b\b\b\b\b\b\b\b\b\b\b\b\b\b\b\r1\/1 [==============================] - 0s 21ms\/step\n",
      "(1) Rock, (2) Paper, or (3) Scissors? Select number! 2\n",
      "\n",
      "Your choice: paper\n",
      "Computer's choice: paper\n",
      "\n",
      "It's a tie!\n",
      "\n",
      "You have 1 wins\n",
      "The computer has 2 wins\n",
      "\n",
      "Play again? (Y\/N)  n\n",
      "Bye bye\n"
     ],
     "output_type":"stream"
    }
   ],
   "metadata":{
    "datalore":{
     "node_id":"Oe5Wh80U6CpyGwPvmCIrJH",
     "type":"CODE",
     "hide_input_from_viewers":true,
     "hide_output_from_viewers":true
    }
   }
  }
 ],
 "metadata":{
  "kernelspec":{
   "display_name":"Python",
   "language":"python",
   "name":"python"
  },
  "datalore":{
   "computation_mode":"JUPYTER",
   "package_manager":"pip",
   "base_environment":"default",
   "packages":[
    
   ],
   "report_row_ids":[
    
   ],
   "version":3
  }
 },
 "nbformat":4,
 "nbformat_minor":4
}
